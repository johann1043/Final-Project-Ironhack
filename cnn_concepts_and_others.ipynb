{
 "cells": [
  {
   "cell_type": "markdown",
   "id": "9a4894be-ffed-49a3-9f4e-48e1a3dfa189",
   "metadata": {
    "tags": []
   },
   "source": [
    "<div style=\"text-align:center; color:purple; font-size:27px;\">\n",
    "    Convolutional Neural Networks(CNN) machine learning model\n",
    "</div>"
   ]
  },
  {
   "cell_type": "markdown",
   "id": "8cfe4c15-0538-491e-bc66-bd9d9b3fce69",
   "metadata": {},
   "source": [
    "## Concept"
   ]
  },
  {
   "cell_type": "markdown",
   "id": "51c25a24-4dc0-4ca5-9984-f50590d7e5cd",
   "metadata": {},
   "source": [
    "###### A convolutional neural network (CNN) is a category of machine learning model, namely a type of deep learning algorithm well suited to analyzing visual data. CNNs -- sometimes referred to as convnets -- use principles from linear algebra, particularly convolution operations, to extract features and identify patterns within images. Although CNNs are predominantly used to process images, they can also be adapted to work with audio and other signal data.\n",
    "\n",
    "Source: https://www.techtarget.com/searchenterpriseai/definition/convolutional-neural-network"
   ]
  },
  {
   "cell_type": "markdown",
   "id": "59dda0eb-5afc-4ff0-b8e9-99a9649828ac",
   "metadata": {},
   "source": [
    "* Deep learning: Deep learning is a subset of machine learning that uses multi-layered neural networks, called deep neural networks, to simulate the complex decision-making power of the human brain. Some form of deep learning powers most of the artificial intelligence (AI) in our lives today.\n",
    "\n",
    "* Neural network: A neural network is a machine learning program, or model, that makes decisions in a manner similar to the human brain, by using processes that mimic the way biological neurons work together to identify phenomena, weigh options and arrive at conclusions.\n",
    "\n",
    "Source: https://www.ibm.com/topics/deep-learning, \n",
    "        https://www.ibm.com/topics/neural-networks"
   ]
  },
  {
   "cell_type": "markdown",
   "id": "3b291268-db15-4275-af3e-55063a7d7f7d",
   "metadata": {
    "tags": []
   },
   "source": [
    "## Libraries & APIs"
   ]
  },
  {
   "cell_type": "markdown",
   "id": "4c4572d0-a50c-4c25-8431-fc88df1c0749",
   "metadata": {},
   "source": [
    "* TensorFlow: is an open source library for numerical computation and large-scale machine learning. TensorFlow bundles together a slew of machine learning and deep learning models and algorithms (aka neural networks) and makes them useful by way of common programmatic metaphors.\n",
    "\n",
    "Source: https://infoworld.com/article/3278008/what-is-tensorflow-the-machine-learning-library-explained.html"
   ]
  },
  {
   "cell_type": "markdown",
   "id": "672db8a6-f664-4216-97d6-b6eafbe0d661",
   "metadata": {},
   "source": [
    "* Keras: is a deep learning API written in Python and capable of running on top of either JAX, TensorFlow, or PyTorch.\n",
    "\n",
    "   - Simple – but not simplistic. Keras reduces developer cognitive load to free you to focus on the parts of      the problem that really matter.\n",
    "   - Flexible – Keras adopts the principle of progressive disclosure of complexity: simple workflows should be      quick and easy, while arbitrarily advanced workflows should be possible via a clear path that builds upon      what you've already learned.\n",
    "   - Powerful – Keras provides industry-strength performance and scalability: it is used by organizations          including NASA, YouTube, or Waymo.\n",
    "   \n",
    "Source: https://keras.io/about/"
   ]
  },
  {
   "cell_type": "markdown",
   "id": "6cfbd7c4-b9d1-45af-95c5-39bec8a9871e",
   "metadata": {},
   "source": [
    "## Arguments and hyperparameters"
   ]
  },
  {
   "cell_type": "markdown",
   "id": "0b280e85-cdad-4019-9194-a94553315d5d",
   "metadata": {},
   "source": [
    "* Batch size:  It is the hyperparameter that defines the number of samples to work through before updating the internal model parameters. It can one of the crucial steps to making sure your models hit peak performance. \n",
    "\n",
    "\n",
    "\n",
    "* Image size: the image size in a CNN model refers to the dimensions of the input images that the model expects during training and inference. These dimensions typically include the width, height, and number of color channels (e.g., RGB or grayscale).\n",
    "\n",
    "* Shuffle: is an operation to help information flow across feature channels in convolutional neural networks. It was used as part of the ShuffleNet architecture.\n",
    "\n",
    "* Epoch: The number of epochs is a hyperparameter that defines the number times that the learning algorithm will work through the entire training dataset. One epoch means that each sample in the training dataset has had an opportunity to update the internal model parameters. \n",
    "    \n",
    "Source: https://medium.com/geekculture/how-does-batch-size-impact-your-model-learning-2dd34d9fb1fa,\n",
    "        https://chat.openai.com/,\n",
    "        https://paperswithcode.com/method/channel-shuffle"
   ]
  },
  {
   "cell_type": "markdown",
   "id": "4ae9ed06-ab2e-4d2f-9b0f-2d51882c10c6",
   "metadata": {},
   "source": [
    "## Concepts, instances & functions"
   ]
  },
  {
   "cell_type": "markdown",
   "id": "8d97d02f-f0fa-4de1-b960-c5344c656bb7",
   "metadata": {},
   "source": [
    "* Convolutional: Convolutions are curves on an object or design that has a lot of curves.\n",
    "* Sequential model: is appropriate for a plain stack of layers where each layer has exactly one input tensor and one output tensor.\n",
    "* Add method: This is a method of the Sequential model object that is used to add layers to the model.\n",
    "* \"tf.keras.layers.Dense\" code line: This creates a Dense layer. A Dense layer is a fully connected layer where each neuron in the layer is connected to every neuron in the previous layer. The Dense layer is initialized with the specified number of units (neurons) and activation function. \n",
    "* Units=1500: This specifies the number of neurons in the Dense layer. In this case, there are 1500 neurons in the layer.\n",
    "* Activation='relu': This specifies the activation function for the neurons in the Dense layer. The activation function here is ReLU (Rectified Linear Unit), which is a commonly used activation function in neural networks. ReLU is defined as f(x) = max(0, x), where x is the input to the neuron.\n",
    "* Sequential constructor: in TensorFlow and Keras, the Sequential constructor is used to create an instance of a Sequential model.\n",
    "* Filters: Also known as kernel, in a CNN is a small matrix of weights that slides over the input data (such as an image), performs element-wise multiplication with the part of the input it is currently on, and then sums up all the results into a single output pixel.\n",
    "* Kernel size: is important as it determines the receptive field (the size of the input region that produces the output feature/pattern maps) of a layer. Choosing the optimal kernel size is a problem-specific task, depending on various parameters including the input image characteristics, desired output, features to be extracted, availability of computing resources, dataset size, resolution, etc.\n",
    "* Layers: in convolutional neural networks, the major building elements are convolutional layers. This layer often contains input vectors, such as an image, filters, such as a feature detector, and output vectors, such as a feature map. The image is abstracted to a feature map, also known as an activation map, after passing through a convolutional layer.\n",
    "* Relu: The rectified linear activation function, or ReLU for short, is a piecewise linear function that, if the input is positive, outputs the input directly; else, it outputs zero. Because a model that utilizes it is quicker to train and generally produces higher performance, it has become the default activation function for many types of neural networks.\n",
    "* Dropout: the Dropout Layer is a regularization technique used in CNN (and other deep learning models) to help prevent overfitting. Overfitting occurs when a model demonstrates high performance on the training data but struggles to generalize well to unseen data.\n",
    "* Flattening: intuition behind flattening layer is to converts data into 1-dimentional array for feeding next layer. we flatted output of convolutional layer into single long feature vector. which is connected to final classification model, called fully connected layer.\n",
    "* Dense: dense Layer is simple layer of neurons in which each neuron receives input from all the neurons of previous layer, thus called as dense. Dense Layer is used to classify image based on output from convolutional layers.\n",
    "* loss function: A loss function measures how good a neural network model is in performing a certain task, which in most cases is regression or classification.\n",
    "* Pooling: in a convolutional neural network, pooling layers are applied after the convolutional layer. The main purpose of pooling is to reduce the size of feature maps, which in turn makes computation faster because the number of training parameters is reduced.\n",
    "\n",
    "\n",
    "\n",
    "\n",
    "Source: https://www.collinsdictionary.com/dictionary/english/convolution,\n",
    "        https://keras.io/guides/sequential_model/#:~:text=A%20Sequential%20model%20is%20appropriate,Sequential,\n",
    "        https://chat.openai.com,\n",
    "        https://medium.com/@nerdjock/convolutional-neural-network-lesson-4-filters-kernels,\n",
    "        https://www.analyticsvidhya.com/blog/2022/03/basics-of-cnn-in-deep-learning/,\n",
    "        https://medium.com/@muhammadshoaibali/flattening-cnn-layers-for-neural-network-694a232eda6a,\n",
    "        https://towardsdatascience.com/introduction-to-convolutional-neural-network-cnn-de73f69c5b83,\n",
    "        https://builtin.com/machine-learning/loss-functions,\n",
    "        https://www.educative.io/answers/what-are-some-deep-details-about-pooling-layers-in-cnn\n",
    "       \n",
    "        "
   ]
  }
 ],
 "metadata": {
  "kernelspec": {
   "display_name": "Python 3 (ipykernel)",
   "language": "python",
   "name": "python3"
  },
  "language_info": {
   "codemirror_mode": {
    "name": "ipython",
    "version": 3
   },
   "file_extension": ".py",
   "mimetype": "text/x-python",
   "name": "python",
   "nbconvert_exporter": "python",
   "pygments_lexer": "ipython3",
   "version": "3.11.5"
  }
 },
 "nbformat": 4,
 "nbformat_minor": 5
}
